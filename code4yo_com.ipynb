{
  "nbformat": 4,
  "nbformat_minor": 0,
  "metadata": {
    "colab": {
      "provenance": [],
      "toc_visible": true,
      "authorship_tag": "ABX9TyN5VfBvXZ3lxxt48MzJbKmC",
      "include_colab_link": true
    },
    "kernelspec": {
      "name": "python3",
      "display_name": "Python 3"
    },
    "language_info": {
      "name": "python"
    }
  },
  "cells": [
    {
      "cell_type": "markdown",
      "metadata": {
        "id": "view-in-github",
        "colab_type": "text"
      },
      "source": [
        "<a href=\"https://colab.research.google.com/github/akaday/..github/blob/main/code4yo_com.ipynb\" target=\"_parent\"><img src=\"https://colab.research.google.com/assets/colab-badge.svg\" alt=\"Open In Colab\"/></a>"
      ]
    },
    {
      "cell_type": "code",
      "execution_count": null,
      "metadata": {
        "colab": {
          "base_uri": "https://localhost:8080/",
          "height": 56
        },
        "id": "u9o6CLVttjq9",
        "outputId": "fb97c083-3603-405e-9c9b-5b6bbc9fc2dc"
      },
      "outputs": [],
      "source": [
        "from google.colab import files\n",
        "uploaded = files.upload()\n"
      ]
    },
    {
      "cell_type": "markdown",
      "metadata": {
        "id": "monitor-network-traffic",
        "colab_type": "text"
      },
      "source": [
        "## Monitor Network Traffic using `tcpdump`"
      ]
    },
    {
      "cell_type": "code",
      "execution_count": null,
      "metadata": {
        "id": "tcpdump-code",
        "colab_type": "code"
      },
      "outputs": [],
      "source": [
        "!apt-get install -y tcpdump\n",
        "!tcpdump -i any"
      ]
    },
    {
      "cell_type": "markdown",
      "metadata": {
        "id": "implement-firewall-rules",
        "colab_type": "text"
      },
      "source": [
        "## Implement Firewall Rules to Block Torrent-Related Activities"
      ]
    },
    {
      "cell_type": "code",
      "execution_count": null,
      "metadata": {
        "id": "firewall-rules-code",
        "colab_type": "code"
      },
      "outputs": [],
      "source": [
        "!iptables -A OUTPUT -p tcp --dport 6881:6889 -j DROP\n",
        "!iptables -A OUTPUT -p udp --dport 6881:6889 -j DROP"
      ]
    },
    {
      "cell_type": "markdown",
      "metadata": {
        "id": "usage-policies",
        "colab_type": "text"
      },
      "source": [
        "## Implement Usage Policies that Explicitly Prohibit Torrent Downloads"
      ]
    },
    {
      "cell_type": "markdown",
      "metadata": {
        "id": "usage-policies-text",
        "colab_type": "text"
      },
      "source": [
        "Usage of this Colab environment for torrent downloads is strictly prohibited. Any violation of this policy will result in immediate termination of access."
      ]
    },
    {
      "cell_type": "markdown",
      "metadata": {
        "id": "audit-review",
        "colab_type": "text"
      },
      "source": [
        "## Regularly Audit and Review User Activities to Ensure Compliance with the Policies"
      ]
    },
    {
      "cell_type": "code",
      "execution_count": null,
      "metadata": {
        "id": "audit-review-code",
        "colab_type": "code"
      },
      "outputs": [],
      "source": [
        "# Example code to review user activities\n",
        "import os\n",
        "import pandas as pd\n",
        "\n",
        "log_file = '/var/log/syslog'\n",
        "if os.path.exists(log_file):\n",
        "    logs = pd.read_csv(log_file, delimiter=' ', header=None)\n",
        "    print(logs.head())\n",
        "else:\n",
        "    print('Log file not found.')"
      ]
    },
    {
      "cell_type": "markdown",
      "metadata": {
        "id": "logging-monitoring",
        "colab_type": "text"
      },
      "source": [
        "## Use Colab's Built-in Logging and Monitoring Features to Track Network Activity"
      ]
    },
    {
      "cell_type": "code",
      "execution_count": null,
      "metadata": {
        "id": "logging-monitoring-code",
        "colab_type": "code"
      },
      "outputs": [],
      "source": [
        "# Example code to use Colab's built-in logging\n",
        "import logging\n",
        "\n",
        "logging.basicConfig(level=logging.INFO)\n",
        "logger = logging.getLogger(__name__)\n",
        "\n",
        "logger.info('Monitoring network activity...')"
      ]
    },
    {
      "cell_type": "markdown",
      "metadata": {
        "id": "customizing-tcpdump",
        "colab_type": "text"
      },
      "source": [
        "## Customizing tcpdump to Filter Specific Traffic"
      ]
    },
    {
      "cell_type": "code",
      "execution_count": null,
      "metadata": {
        "id": "tcpdump-filter-code",
        "colab_type": "code"
      },
      "outputs": [],
      "source": [
        "# Example code to filter traffic by host, port, and protocol using tcpdump\n",
        "!tcpdump -i any host 192.168.1.1\n",
        "!tcpdump -i any port 80\n",
        "!tcpdump -i any tcp"
      ]
    },
    {
      "cell_type": "markdown",
      "metadata": {
        "id": "combining-filters",
        "colab_type": "text"
      },
      "source": [
        "## Combining Filters in tcpdump"
      ]
    },
    {
      "cell_type": "code",
      "execution_count": null,
      "metadata": {
        "id": "tcpdump-combine-filters-code",
        "colab_type": "code"
      },
      "outputs": [],
      "source": [
        "# Example code to combine multiple filters using logical operators in tcpdump\n",
        "!tcpdump -i any host 192.168.1.1 and port 80\n",
        "!tcpdump -i any tcp or udp\n",
        "!tcpdump -i any not port 22"
      ]
    }
  ]
}
